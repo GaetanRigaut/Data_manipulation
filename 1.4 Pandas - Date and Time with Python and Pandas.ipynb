{
 "cells": [
  {
   "cell_type": "markdown",
   "metadata": {},
   "source": [
    "Imports"
   ]
  },
  {
   "cell_type": "code",
   "execution_count": 1,
   "metadata": {},
   "outputs": [],
   "source": [
    "from datetime import datetime\n",
    "from datetime import timedelta\n",
    "import pandas as pd\n",
    "import seaborn as sns\n",
    "import matplotlib.pyplot as plt"
   ]
  },
  {
   "cell_type": "markdown",
   "metadata": {},
   "source": [
    "Your mission: convert each string variable into datetime objects"
   ]
  },
  {
   "cell_type": "code",
   "execution_count": 2,
   "metadata": {},
   "outputs": [
    {
     "name": "stdout",
     "output_type": "stream",
     "text": [
      "<class 'str'>\n",
      "2018-01-04\n"
     ]
    }
   ],
   "source": [
    "var1 = '2018-01-04'\n",
    "print(type(var1))\n",
    "print(var1)"
   ]
  },
  {
   "cell_type": "code",
   "execution_count": 6,
   "metadata": {},
   "outputs": [
    {
     "name": "stdout",
     "output_type": "stream",
     "text": [
      "<class 'datetime.datetime'>\n",
      "2018-01-04 00:00:00\n"
     ]
    }
   ],
   "source": [
    "var1_date = datetime.strptime(var1, '%Y-%m-%d')\n",
    "print(type(var1_date))\n",
    "print(var1_date)"
   ]
  },
  {
   "cell_type": "code",
   "execution_count": 7,
   "metadata": {},
   "outputs": [
    {
     "name": "stdout",
     "output_type": "stream",
     "text": [
      "<class 'datetime.datetime'>\n",
      "2019-02-14 00:00:00\n"
     ]
    }
   ],
   "source": [
    "var2 = '14/02/2019'\n",
    "var2_date = datetime.strptime(var2, '%d/%m/%Y')\n",
    "print(type(var2_date))\n",
    "print(var2_date)"
   ]
  },
  {
   "cell_type": "code",
   "execution_count": 8,
   "metadata": {},
   "outputs": [
    {
     "name": "stdout",
     "output_type": "stream",
     "text": [
      "<class 'datetime.datetime'>\n",
      "2020-03-14 00:00:00\n"
     ]
    }
   ],
   "source": [
    "var3 = '14 03 20'\n",
    "var3_date = datetime.strptime(var3, '%d %m %y')\n",
    "print(type(var3_date))\n",
    "print(var3_date)"
   ]
  },
  {
   "cell_type": "code",
   "execution_count": 9,
   "metadata": {},
   "outputs": [
    {
     "name": "stdout",
     "output_type": "stream",
     "text": [
      "<class 'datetime.datetime'>\n",
      "2018-01-04 18:48:00\n"
     ]
    }
   ],
   "source": [
    "var5 = '2018-01-04 at 18 hours and 48 min'\n",
    "var5_date = datetime.strptime(var5, '%Y-%m-%d at %H hours and %M min')\n",
    "print(type(var5_date))\n",
    "print(var5_date)"
   ]
  },
  {
   "cell_type": "markdown",
   "metadata": {},
   "source": [
    "# Your mission: convert the datetime object into string with precise format"
   ]
  },
  {
   "cell_type": "code",
   "execution_count": 10,
   "metadata": {},
   "outputs": [
    {
     "name": "stdout",
     "output_type": "stream",
     "text": [
      "2020-02-15 20:05:00\n"
     ]
    }
   ],
   "source": [
    "var_date = datetime.strptime('2020-02-15 20:05', '%Y-%m-%d %H:%M')\n",
    "print(var_date)"
   ]
  },
  {
   "cell_type": "code",
   "execution_count": 11,
   "metadata": {},
   "outputs": [
    {
     "name": "stdout",
     "output_type": "stream",
     "text": [
      "15/02/2020\n"
     ]
    }
   ],
   "source": [
    "# We would like to print this format : 15/02/2020\n",
    "format1 = var_date.strftime('%d/%m/%Y')\n",
    "print(format1)"
   ]
  },
  {
   "cell_type": "code",
   "execution_count": 12,
   "metadata": {},
   "outputs": [
    {
     "name": "stdout",
     "output_type": "stream",
     "text": [
      "15-02-2020\n"
     ]
    }
   ],
   "source": [
    "# We would like to print this format : 15-02-2020\n",
    "format2 = var_date.strftime('%d-%m-%Y')\n",
    "print(format2)"
   ]
  },
  {
   "cell_type": "code",
   "execution_count": 13,
   "metadata": {},
   "outputs": [
    {
     "name": "stdout",
     "output_type": "stream",
     "text": [
      "15/02\n"
     ]
    }
   ],
   "source": [
    "# We would like to print this format : 15/02\n",
    "format3 = var_date.strftime('%d/%m')\n",
    "print(format3)"
   ]
  },
  {
   "cell_type": "code",
   "execution_count": 14,
   "metadata": {},
   "outputs": [
    {
     "name": "stdout",
     "output_type": "stream",
     "text": [
      "2020-02\n"
     ]
    }
   ],
   "source": [
    "# We would like to print this format : 2020-02\n",
    "format4 = var_date.strftime('%Y-%m')\n",
    "print(format4)"
   ]
  },
  {
   "cell_type": "code",
   "execution_count": 15,
   "metadata": {},
   "outputs": [
    {
     "name": "stdout",
     "output_type": "stream",
     "text": [
      "2020-02-15 at 20:05\n"
     ]
    }
   ],
   "source": [
    "# We would like to print this format : 2020-02-15 at 20:05\n",
    "format5 = var_date.strftime('%Y-%m-%d at %H:%M')\n",
    "print(format5)"
   ]
  },
  {
   "cell_type": "markdown",
   "metadata": {},
   "source": [
    "# Your mission is to determine which date it was / it will be"
   ]
  },
  {
   "cell_type": "code",
   "execution_count": 16,
   "metadata": {},
   "outputs": [
    {
     "name": "stdout",
     "output_type": "stream",
     "text": [
      "Current date and time: 2024-09-13 09:49:02.037785\n"
     ]
    }
   ],
   "source": [
    "# Current date and time\n",
    "now = datetime.now()\n",
    "print(f\"Current date and time: {now}\")"
   ]
  },
  {
   "cell_type": "code",
   "execution_count": 17,
   "metadata": {},
   "outputs": [
    {
     "name": "stdout",
     "output_type": "stream",
     "text": [
      "What month will it be in 7 weeks? November\n"
     ]
    }
   ],
   "source": [
    "# what month will it be in 7 weeks ?\n",
    "date_in_7_weeks = now + timedelta(weeks=7)\n",
    "month_in_7_weeks = date_in_7_weeks.strftime('%B')\n",
    "print(f\"What month will it be in 7 weeks? {month_in_7_weeks}\")"
   ]
  },
  {
   "cell_type": "code",
   "execution_count": 18,
   "metadata": {},
   "outputs": [
    {
     "name": "stdout",
     "output_type": "stream",
     "text": [
      "What day of the week will it be in 3 days? Monday\n"
     ]
    }
   ],
   "source": [
    "# what day of the week will it be in 3 days ?\n",
    "date_in_3_days = now + timedelta(days=3)\n",
    "day_in_3_days = date_in_3_days.strftime('%A')\n",
    "print(f\"What day of the week will it be in 3 days? {day_in_3_days}\")"
   ]
  },
  {
   "cell_type": "code",
   "execution_count": 19,
   "metadata": {},
   "outputs": [
    {
     "name": "stdout",
     "output_type": "stream",
     "text": [
      "What date was 30 days ago? 2024-08-14\n"
     ]
    }
   ],
   "source": [
    "# what date was 30 days ago ?\n",
    "date_30_days_ago = now - timedelta(days=30)\n",
    "date_30_days_ago_formatted = date_30_days_ago.strftime('%Y-%m-%d')\n",
    "print(f\"What date was 30 days ago? {date_30_days_ago_formatted}\")"
   ]
  },
  {
   "cell_type": "markdown",
   "metadata": {},
   "source": [
    "# With Pandas\n",
    "\"DATE\" column has only string values. On a chart, the X-axis is not well displayed."
   ]
  },
  {
   "cell_type": "code",
   "execution_count": 20,
   "metadata": {},
   "outputs": [
    {
     "name": "stderr",
     "output_type": "stream",
     "text": [
      "C:\\Users\\Gaetan Rigaut\\AppData\\Local\\Temp\\ipykernel_6000\\636473841.py:6: UserWarning: FigureCanvasAgg is non-interactive, and thus cannot be shown\n",
      "  fig.show()\n"
     ]
    },
    {
     "data": {
      "image/png": "[encoded data removed]",
      "text/plain": [
       "<Figure size 1440x720 with 1 Axes>"
      ]
     },
     "metadata": {
      "needs_background": "light"
     },
     "output_type": "display_data"
    }
   ],
   "source": [
    "# Please run this cell without modification:\n",
    "df = pd.read_csv(\"https://raw.githubusercontent.com/murpi/wilddata/master/quests/weather2019.csv\")\n",
    "fig, ax = plt.subplots(figsize=(20, 10))\n",
    "ax.scatter(x=df['DATE'],\n",
    "           y=df['MAX_TEMPERATURE_C'])\n",
    "fig.show()"
   ]
  },
  {
   "cell_type": "code",
   "execution_count": 21,
   "metadata": {},
   "outputs": [
    {
     "data": {
      "image/png": "[encoded data removed]",
      "text/plain": [
       "<Figure size 1440x720 with 1 Axes>"
      ]
     },
     "metadata": {
      "needs_background": "light"
     },
     "output_type": "display_data"
    }
   ],
   "source": [
    "# Convert the \"DATE\" column into a datetime format, then display the same chart. Are ticks on X-axis better printed ?\n",
    "\n",
    "\n",
    "# Convert the \"DATE\" column to datetime format\n",
    "df['DATE'] = pd.to_datetime(df['DATE'])\n",
    "\n",
    "# Plot the scatter plot\n",
    "fig, ax = plt.subplots(figsize=(20, 10))\n",
    "ax.scatter(x=df['DATE'],\n",
    "           y=df['MAX_TEMPERATURE_C'])\n",
    "\n",
    "# Set X-axis label\n",
    "ax.set_xlabel('Date')\n",
    "\n",
    "# Rotate X-axis labels for better readability\n",
    "plt.xticks(rotation=45)\n",
    "\n",
    "# Show the plot\n",
    "plt.show()"
   ]
  },
  {
   "cell_type": "code",
   "execution_count": 22,
   "metadata": {},
   "outputs": [
    {
     "data": {
      "image/png": "[encoded data removed]",
      "text/plain": [
       "<Figure size 1440x720 with 1 Axes>"
      ]
     },
     "metadata": {
      "needs_background": "light"
     },
     "output_type": "display_data"
    }
   ],
   "source": [
    "# Display only rows for the month of June\n",
    "\n",
    "# Filter rows for the month of June\n",
    "june_data = df[df['DATE'].dt.month == 6]\n",
    "\n",
    "# Plot the scatter plot\n",
    "fig, ax = plt.subplots(figsize=(20, 10))\n",
    "ax.scatter(x=june_data['DATE'],\n",
    "           y=june_data['MAX_TEMPERATURE_C'])\n",
    "\n",
    "# Set X-axis label\n",
    "ax.set_xlabel('Date')\n",
    "\n",
    "# Rotate X-axis labels for better readability\n",
    "plt.xticks(rotation=45)\n",
    "\n",
    "# Show the plot\n",
    "plt.show()"
   ]
  }
 ],
 "metadata": {
  "kernelspec": {
   "display_name": "Python 3",
   "language": "python",
   "name": "python3"
  },
  "language_info": {
   "codemirror_mode": {
    "name": "ipython",
    "version": 3
   },
   "file_extension": ".py",
   "mimetype": "text/x-python",
   "name": "python",
   "nbconvert_exporter": "python",
   "pygments_lexer": "ipython3",
   "version": "3.9.10"
  }
 },
 "nbformat": 4,
 "nbformat_minor": 2
}
